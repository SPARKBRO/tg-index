{
  "cells": [
    {
      "cell_type": "markdown",
      "metadata": {
        "id": "CetG3s_vKE5D"
      },
      "source": [
        "<h1>𝙎𝙪𝙧𝙛-𝙏𝙂 𝙃𝙀𝙍𝙊𝙆𝙐</h1>\n",
        "\n",
        "<center><img src='https://cdn.jsdelivr.net/gh/weebzone/weebzone/data/Surf-TG/src/logo.png'  height=\"120\" width=\"400\" alt=\"Surf-TG-logo\"/></center>\n",
        "\n",
        "---\n",
        "\n",
        "### ***Collab Repository Details***\n",
        "- 🔗 **Repo :** https://github.com/weebzone/Surf-TG\n",
        "- 🤖 **Version :** _v1.0_\n",
        "- ☢️ **Colab Version :** _v1.0_\n",
        "\n",
        "---\n",
        "### ***Deploy Surf-TG in Heroku using Google Colab***"
      ]
    },
    {
      "cell_type": "code",
      "execution_count": null,
      "metadata": {
        "cellView": "form",
        "id": "SoWUSMrl5FXz"
      },
      "outputs": [],
      "source": [
        "#@title <center><h3>***Heroku Login***</h3></center><br>\n",
        "\n",
        "#@markdown ---\n",
        "\n",
        "Heroku_Email = \"\" #@param {type:\"string\"}\n",
        "Heroku_API = \"\" #@param {type:\"string\"}\n",
        "#@markdown <h6>( <b>Note:</b> <i>Use your Personal API Token</i> )</h6>\n",
        "\n",
        "#@markdown ---\n",
        "\n",
        "!curl -s https://cli-assets.heroku.com/install.sh | sh\n",
        "\n",
        "from IPython.display import HTML, clear_output, display\n",
        "clear_output()\n",
        "display(HTML(\"<marquee><b>Heroku CLI Installed !</b></marquee>\"))\n",
        "\n",
        "if not all([Heroku_Email, Heroku_API]):\n",
        "    raise ValueError(\"Please fill in all Mandatory Variables.\")\n",
        "\n",
        "from os import path as ospath, chmod\n",
        "\n",
        "netrc_path = ospath.expanduser(\"~/.netrc\")\n",
        "\n",
        "netrc_creds = f'''machine api.heroku.com\n",
        "  login {Heroku_Email}\n",
        "  password {Heroku_API}\n",
        "machine git.heroku.com\n",
        "  login {Heroku_Email}\n",
        "  password {Heroku_API}'''\n",
        "with open(netrc_path, \"w\") as netrc_file:\n",
        "    netrc_file.write(netrc_creds)\n",
        "\n",
        "chmod(netrc_path, 0o600)\n",
        "\n",
        "!git config --global user.email {Heroku_Email}\n",
        "!git config --global user.name \"WZML-X\"\n",
        "\n",
        "display(HTML(\"<marquee><b>Heroku Email & Password Loaded!</b></marquee>\"))"
      ]
    },
    {
      "cell_type": "code",
      "execution_count": null,
      "metadata": {
        "cellView": "form",
        "id": "O0F5uHkJ2kzV"
      },
      "outputs": [],
      "source": [
        "#@title <center><h3>***Create Heroku App***</h3></center><br>\n",
        "\n",
        "#@markdown ---\n",
        "App_Name = \"\" #@param {type:\"string\"}\n",
        "#@markdown <h6>( <b>Note:</b> <i>App Name is Optional, skip for random name !</i> )</h6>\n",
        "Server_Region = \"eu\" #@param [\"eu\", \"us\"] {allow-input: true}\n",
        "\n",
        "#@markdown ---\n",
        "\n",
        "!heroku create --region $Server_Region --stack container $App_Name"
      ]
    },
    {
      "cell_type": "code",
      "execution_count": null,
      "metadata": {
        "cellView": "form",
        "id": "NDpKCpuD2xjE"
      },
      "outputs": [],
      "source": [
        "#@title <center><h3>***Surf-TG Repo Config Setup***</h3></center><br>\n",
        "\n",
        "#@markdown \n",
        "CONF_GIST_URL = \"\" # @param {type:\"string\"}\n",
        "#@markdown <h6><i>(If you want to Upload `config.env` via `gist.github.com`, Provide the gist URL, Always make Private gist)</i></h6>\n",
        "\n",
        "#@markdown ---\n",
        "\n",
        "#@markdown ### ***OR***\n",
        "Upload_Config = False # @param {type:\"boolean\"}\n",
        "#@markdown <h6><i>(If you want to Upload `config.env` file Externally, Tick the Above CheckBox)</i></h6>\n",
        "\n",
        "#@markdown ---\n",
        "\n",
        "if not Upload_Config and not CONF_GIST_URL:\n",
        "    raise ValueError(\"Please fill in all Mandatory Variables.\")\n",
        "\n",
        "!git clone https://github.com/SPARKBRO/MANIA-TG\n",
        "%cd MANIA-TG\n",
        "\n",
        "if Upload_Config:\n",
        "    from google.colab import files\n",
        "    config_creds = list(files.upload().values())[0]\n",
        "    with open(\"config.env\", \"wb\") as config_file:\n",
        "        config_file.write(config_creds)\n",
        "    print(\"config.env File Uploaded and Saved Successfully\")\n",
        "elif CONF_GIST_URL:\n",
        "    !curl -o \"config.env\" $CONF_GIST_URL\n",
        "    print(\"config.env File Extracted and Saved Successfully\")\n"
      ]
    },
    {
      "cell_type": "code",
      "execution_count": null,
      "metadata": {
        "cellView": "form",
        "colab": {
          "background_save": true
        },
        "id": "NDbOYtC0ADR5"
      },
      "outputs": [],
      "source": [
        "# @title <center><h3>***Deploy Heroku App***</h3></center><br>\n",
        "\n",
        "#@markdown ---\n",
        "App_Name = \"\" #@param {type:\"string\"}\n",
        "#@markdown ---\n",
        "\n",
        "!git add . -f\n",
        "!git commit -m \"HK Setup\"\n",
        "!heroku git:remote -a {App_Name}\n",
        "!git push heroku main -f"
      ]
    },
    {
      "cell_type": "code",
      "execution_count": null,
      "metadata": {
        "cellView": "form",
        "id": "uLHCOrkZgYbG"
      },
      "outputs": [],
      "source": [
        "# @title <center><h3>***Show Heroku App Logs***</h3></center><br>\n",
        "\n",
        "#@markdown ---\n",
        "App_Name = \"\" #@param {type:\"string\"}\n",
        "#@markdown ---\n",
        "\n",
        "!heroku logs -a {App_Name}"
      ]
    },
    {
      "cell_type": "code",
      "execution_count": null,
      "metadata": {
        "cellView": "form",
        "id": "jHhWiD3QAVTt"
      },
      "outputs": [],
      "source": [
        "#@title <center><h3>***Heroku Logout***</h3></center><br>\n",
        "\n",
        "!heroku logout"
      ]
    }
  ],
  "metadata": {
    "colab": {
      "provenance": []
    },
    "kernelspec": {
      "display_name": "Python 3",
      "name": "python3"
    },
    "language_info": {
      "name": "python"
    }
  },
  "nbformat": 4,
  "nbformat_minor": 0
}
